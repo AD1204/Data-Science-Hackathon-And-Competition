{
  "nbformat": 4,
  "nbformat_minor": 0,
  "metadata": {
    "colab": {
      "name": "Untitled1.ipynb",
      "version": "0.3.2",
      "provenance": []
    },
    "kernelspec": {
      "name": "python3",
      "display_name": "Python 3"
    }
  },
  "cells": [
    {
      "metadata": {
        "id": "KCbh7PkBdGL_",
        "colab_type": "code",
        "colab": {}
      },
      "cell_type": "code",
      "source": [
        "import pandas as pd\n",
        "import numpy as np\n",
        "\n",
        "from sklearn.metrics import r2_score\n",
        "from sklearn.preprocessing import LabelEncoder\n",
        "from sklearn.preprocessing import StandardScaler\n",
        "from sklearn import linear_model\n",
        "from sklearn.preprocessing import PolynomialFeatures\n"
      ],
      "execution_count": 0,
      "outputs": []
    },
    {
      "metadata": {
        "id": "af0wWdOsdknp",
        "colab_type": "code",
        "colab": {
          "base_uri": "https://localhost:8080/",
          "height": 204
        },
        "outputId": "376b4436-f981-4187-afa6-fc9485b625f1"
      },
      "cell_type": "code",
      "source": [
        "!wget https://datahack-prod.s3.amazonaws.com/train_file/train_NIR5Yl1.csv"
      ],
      "execution_count": 3,
      "outputs": [
        {
          "output_type": "stream",
          "text": [
            "--2019-02-10 17:33:46--  https://datahack-prod.s3.amazonaws.com/train_file/train_NIR5Yl1.csv\n",
            "Resolving datahack-prod.s3.amazonaws.com (datahack-prod.s3.amazonaws.com)... 52.219.64.44\n",
            "Connecting to datahack-prod.s3.amazonaws.com (datahack-prod.s3.amazonaws.com)|52.219.64.44|:443... connected.\n",
            "HTTP request sent, awaiting response... 200 OK\n",
            "Length: 12564851 (12M) [application/vnd.ms-excel]\n",
            "Saving to: ‘train_NIR5Yl1.csv’\n",
            "\n",
            "train_NIR5Yl1.csv   100%[===================>]  11.98M  5.19MB/s    in 2.3s    \n",
            "\n",
            "2019-02-10 17:33:49 (5.19 MB/s) - ‘train_NIR5Yl1.csv’ saved [12564851/12564851]\n",
            "\n"
          ],
          "name": "stdout"
        }
      ]
    },
    {
      "metadata": {
        "id": "_zmKu1-DeNCE",
        "colab_type": "code",
        "colab": {
          "base_uri": "https://localhost:8080/",
          "height": 204
        },
        "outputId": "89decef9-b891-4114-87ca-2ce76d525b96"
      },
      "cell_type": "code",
      "source": [
        "!wget https://datahack-prod.s3.amazonaws.com/test_file/test_8i3B3FC.csv"
      ],
      "execution_count": 4,
      "outputs": [
        {
          "output_type": "stream",
          "text": [
            "--2019-02-10 17:34:02--  https://datahack-prod.s3.amazonaws.com/test_file/test_8i3B3FC.csv\n",
            "Resolving datahack-prod.s3.amazonaws.com (datahack-prod.s3.amazonaws.com)... 52.219.64.32\n",
            "Connecting to datahack-prod.s3.amazonaws.com (datahack-prod.s3.amazonaws.com)|52.219.64.32|:443... connected.\n",
            "HTTP request sent, awaiting response... 200 OK\n",
            "Length: 4673330 (4.5M) [application/vnd.ms-excel]\n",
            "Saving to: ‘test_8i3B3FC.csv’\n",
            "\n",
            "test_8i3B3FC.csv    100%[===================>]   4.46M  1.91MB/s    in 2.3s    \n",
            "\n",
            "2019-02-10 17:34:06 (1.91 MB/s) - ‘test_8i3B3FC.csv’ saved [4673330/4673330]\n",
            "\n"
          ],
          "name": "stdout"
        }
      ]
    },
    {
      "metadata": {
        "id": "t0j5juugeRCs",
        "colab_type": "code",
        "colab": {
          "base_uri": "https://localhost:8080/",
          "height": 255
        },
        "outputId": "ad795b32-1a92-483e-ef70-45ccff5c2a69"
      },
      "cell_type": "code",
      "source": [
        "!unzip train_NIR5Yl1.csv\n",
        "!unzip test_8i3B3FC.csv"
      ],
      "execution_count": 5,
      "outputs": [
        {
          "output_type": "stream",
          "text": [
            "Archive:  train_NIR5Yl1.csv\n",
            "  End-of-central-directory signature not found.  Either this file is not\n",
            "  a zipfile, or it constitutes one disk of a multi-part archive.  In the\n",
            "  latter case the central directory and zipfile comment will be found on\n",
            "  the last disk(s) of this archive.\n",
            "unzip:  cannot find zipfile directory in one of train_NIR5Yl1.csv or\n",
            "        train_NIR5Yl1.csv.zip, and cannot find train_NIR5Yl1.csv.ZIP, period.\n",
            "Archive:  test_8i3B3FC.csv\n",
            "  End-of-central-directory signature not found.  Either this file is not\n",
            "  a zipfile, or it constitutes one disk of a multi-part archive.  In the\n",
            "  latter case the central directory and zipfile comment will be found on\n",
            "  the last disk(s) of this archive.\n",
            "unzip:  cannot find zipfile directory in one of test_8i3B3FC.csv or\n",
            "        test_8i3B3FC.csv.zip, and cannot find test_8i3B3FC.csv.ZIP, period.\n"
          ],
          "name": "stdout"
        }
      ]
    },
    {
      "metadata": {
        "id": "eiCEazUTeXYU",
        "colab_type": "code",
        "colab": {}
      },
      "cell_type": "code",
      "source": [
        "train = pd.read_csv('train_NIR5Yl1.csv')\n",
        "train = train.drop(train[train.Views > 3000000].index)\n",
        "\n",
        "     \n",
        "labelencoder_X = LabelEncoder()\n",
        "train['Tag'] = labelencoder_X.fit_transform(train['Tag'])\n",
        "train.drop(['ID','Username'], axis=1,inplace =True)\n",
        "target = train['Upvotes']\n",
        "\n"
      ],
      "execution_count": 0,
      "outputs": []
    },
    {
      "metadata": {
        "id": "6y4Fzvq7ehVv",
        "colab_type": "code",
        "colab": {}
      },
      "cell_type": "code",
      "source": [
        "from sklearn.preprocessing import Binarizer\n",
        "bn = Binarizer(threshold=7)\n",
        "pd_watched = bn.transform([train['Answers']])[0]\n",
        "train['pd_watched'] = pd_watched\n",
        "\n",
        "\n"
      ],
      "execution_count": 0,
      "outputs": []
    },
    {
      "metadata": {
        "id": "sNElnmxLejnI",
        "colab_type": "code",
        "colab": {
          "base_uri": "https://localhost:8080/",
          "height": 119
        },
        "outputId": "864b2966-7988-4691-c9e1-4e9c7a8466b7"
      },
      "cell_type": "code",
      "source": [
        "feature_names = [x for x in train.columns if x not in ['Upvotes']]\n",
        "from sklearn.model_selection import train_test_split\n",
        "x_train, x_val, y_train, y_val = train_test_split(train[feature_names], target,test_size = 0.22,random_state =205)\n",
        "sc_X = StandardScaler()\n",
        "x_train = sc_X.fit_transform(x_train)\n",
        "x_val = sc_X.transform(x_val)\n",
        "\n"
      ],
      "execution_count": 9,
      "outputs": [
        {
          "output_type": "stream",
          "text": [
            "/usr/local/lib/python3.6/dist-packages/sklearn/preprocessing/data.py:625: DataConversionWarning: Data with input dtype int64, float64 were all converted to float64 by StandardScaler.\n",
            "  return self.partial_fit(X, y)\n",
            "/usr/local/lib/python3.6/dist-packages/sklearn/base.py:462: DataConversionWarning: Data with input dtype int64, float64 were all converted to float64 by StandardScaler.\n",
            "  return self.fit(X, **fit_params).transform(X)\n",
            "/usr/local/lib/python3.6/dist-packages/ipykernel_launcher.py:6: DataConversionWarning: Data with input dtype int64, float64 were all converted to float64 by StandardScaler.\n",
            "  \n"
          ],
          "name": "stderr"
        }
      ]
    },
    {
      "metadata": {
        "id": "HgexWhFtelzh",
        "colab_type": "code",
        "colab": {
          "base_uri": "https://localhost:8080/",
          "height": 68
        },
        "outputId": "9dbc7da7-2096-4bc3-de11-6923b0507180"
      },
      "cell_type": "code",
      "source": [
        "poly_reg = PolynomialFeatures(degree = 4,interaction_only=False, include_bias=True)\n",
        "X_poly = poly_reg.fit_transform(x_train)\n",
        "poly_reg.fit(x_train, y_train)\n",
        "lin_reg_1 = linear_model.LassoLars(alpha=0.021,max_iter=150)\n",
        "lin_reg_1.fit(X_poly, y_train)\n",
        "\n"
      ],
      "execution_count": 10,
      "outputs": [
        {
          "output_type": "execute_result",
          "data": {
            "text/plain": [
              "LassoLars(alpha=0.021, copy_X=True, eps=2.220446049250313e-16,\n",
              "     fit_intercept=True, fit_path=True, max_iter=150, normalize=True,\n",
              "     positive=False, precompute='auto', verbose=False)"
            ]
          },
          "metadata": {
            "tags": []
          },
          "execution_count": 10
        }
      ]
    },
    {
      "metadata": {
        "id": "8KAWQCs7ezPg",
        "colab_type": "code",
        "colab": {
          "base_uri": "https://localhost:8080/",
          "height": 34
        },
        "outputId": "914658df-e2cf-409a-b793-d63a78e64c51"
      },
      "cell_type": "code",
      "source": [
        "# predicitng \n",
        "pred_val = lin_reg_1.predict(poly_reg.fit_transform(x_val))\n",
        "\n",
        "print(r2_score(y_val, pred_val))\n",
        "\n"
      ],
      "execution_count": 11,
      "outputs": [
        {
          "output_type": "stream",
          "text": [
            "0.903437879332795\n"
          ],
          "name": "stdout"
        }
      ]
    },
    {
      "metadata": {
        "id": "G_q382Lje13Z",
        "colab_type": "code",
        "colab": {}
      },
      "cell_type": "code",
      "source": [
        "# ---------------------------------------------------------------------------------------\n",
        "\n",
        "# testing\n",
        "\n",
        "test = pd.read_csv('test_8i3B3FC.csv')\n",
        "ids = test['ID']\n",
        "test.drop(['ID','Username'], axis=1,inplace =True)\n",
        "\n",
        "\n",
        "labelencoder_X = LabelEncoder()\n",
        "test['Tag'] = labelencoder_X.fit_transform(test['Tag'])\n",
        "\n"
      ],
      "execution_count": 0,
      "outputs": []
    },
    {
      "metadata": {
        "id": "a0CwCwXKe4vV",
        "colab_type": "code",
        "colab": {
          "base_uri": "https://localhost:8080/",
          "height": 85
        },
        "outputId": "b9582a2b-98e7-4899-a519-7423af237e87"
      },
      "cell_type": "code",
      "source": [
        "from sklearn.preprocessing import Binarizer\n",
        "bn = Binarizer(threshold=7)\n",
        "pd_watched = bn.transform([test['Answers']])[0]\n",
        "test['pd_watched'] = pd_watched\n",
        "\n",
        "   \n",
        "test = sc_X.fit_transform(test)\n",
        "\n",
        "pred_test = lin_reg_1.predict(poly_reg.fit_transform(test))\n",
        "pred_test=abs(pred_test)\n",
        "\n",
        "\n"
      ],
      "execution_count": 13,
      "outputs": [
        {
          "output_type": "stream",
          "text": [
            "/usr/local/lib/python3.6/dist-packages/sklearn/preprocessing/data.py:625: DataConversionWarning: Data with input dtype int64, float64 were all converted to float64 by StandardScaler.\n",
            "  return self.partial_fit(X, y)\n",
            "/usr/local/lib/python3.6/dist-packages/sklearn/base.py:462: DataConversionWarning: Data with input dtype int64, float64 were all converted to float64 by StandardScaler.\n",
            "  return self.fit(X, **fit_params).transform(X)\n"
          ],
          "name": "stderr"
        }
      ]
    },
    {
      "metadata": {
        "id": "7QPyz_sxe6zX",
        "colab_type": "code",
        "colab": {}
      },
      "cell_type": "code",
      "source": [
        "submission = pd.DataFrame({'ID': ids,\n",
        "                           'Upvotes':pred_test\n",
        "                           })\n",
        "\n",
        "submission.to_csv(\"final_sub477.csv\",index=False)"
      ],
      "execution_count": 0,
      "outputs": []
    },
    {
      "metadata": {
        "id": "xWI8ZFVEe8nd",
        "colab_type": "code",
        "colab": {}
      },
      "cell_type": "code",
      "source": [
        "from google.colab import files\n",
        "files.download(\"final_sub477.csv\")"
      ],
      "execution_count": 0,
      "outputs": []
    }
  ]
}